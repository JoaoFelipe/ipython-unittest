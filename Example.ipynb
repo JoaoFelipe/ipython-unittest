{
 "cells": [
  {
   "cell_type": "code",
   "execution_count": 15,
   "metadata": {
    "collapsed": false
   },
   "outputs": [
    {
     "data": {
      "application/javascript": [
       "var DojoClock = {\n",
       "  seconds: 300,\n",
       "  default: 300,\n",
       "  mouseOver: false,\n",
       "  users: [],\n",
       "  startTime: null,\n",
       "\n",
       "  secToMMSS: function (sec) {\n",
       "    var minutes = Math.floor(sec / 60);\n",
       "    var seconds = sec - (minutes * 60);\n",
       "    if (minutes < 10) { minutes = \"0\" + minutes; }\n",
       "    if (seconds < 10) { seconds = \"0\" + seconds; }\n",
       "    return minutes + \":\" + seconds;\n",
       "  },\n",
       "\n",
       "  display: function () {\n",
       "    var self = this;\n",
       "    $(\"#dojo-timer-time\").text(self.secToMMSS(self.seconds));\n",
       "  },\n",
       "\n",
       "  viewText: function() {\n",
       "    var self = this;\n",
       "    if ($(\"#dojo-eye\").hasClass(\"fa-eye\") ||\n",
       "        $(\"#dojo-play-pause-icon\").hasClass(\"fa-play\") ||\n",
       "        self.mouseOver) {\n",
       "      $(\"#dojo-timer-time\").css(\"color\", \"black\");\n",
       "    } else {\n",
       "      $(\"#dojo-timer-time\").css(\"color\", \"transparent\");\n",
       "    }\n",
       "  },\n",
       "\n",
       "  start: function () {\n",
       "    var self = this;\n",
       "    $(\"#dojo-play-pause-icon\").removeClass(\"fa-play\");\n",
       "    $(\"#dojo-play-pause-icon\").addClass(\"fa-pause\");\n",
       "\n",
       "    this.interval = setInterval(function () {\n",
       "      self.display();\n",
       "      if (self.seconds == 0) {\n",
       "        self.pause();\n",
       "        if (self.startTime == null) {\n",
       "          alert(\"Time is up. Click ok to restart timer\");\n",
       "        } else {\n",
       "          var newTime = new Date();\n",
       "          self.users.push([self.startTime, newTime, self.pilot, self.copilot]);\n",
       "          self.pilot = self.copilot;\n",
       "          self.copilot = prompt(\"Time is up. Who is the new copilot?\");\n",
       "          self.startTime = new Date();\n",
       "        }\n",
       "        self.seconds = self.default;\n",
       "        self.start();\n",
       "      } else {\n",
       "        self.seconds--;\n",
       "      }\n",
       "      self.viewText();\n",
       "\n",
       "    }, 1000);\n",
       "    $(\"#dojo-timer-interval\").text(this.interval);\n",
       "  },\n",
       "\n",
       "  pause: function () {\n",
       "    var self = this;\n",
       "    $(\"#dojo-play-pause-icon\").addClass(\"fa-play\");\n",
       "    $(\"#dojo-play-pause-icon\").removeClass(\"fa-pause\");\n",
       "    $(\"#dojo-timer-interval\").text(\"\");\n",
       "    clearInterval(this.interval);\n",
       "    delete this.interval;\n",
       "    self.viewText();\n",
       "  },\n",
       "\n",
       "  resume: function () {\n",
       "    if (!this.interval) this.start();\n",
       "  },\n",
       "\n",
       "  reset: function () {\n",
       "    var self = this;\n",
       "    self.seconds = self.default;\n",
       "    self.display();\n",
       "    self.pause();\n",
       "  },\n",
       "\n",
       "  startRegistering: function () {\n",
       "    var self = this;\n",
       "    $(\"#dojo-user-icon\").removeClass(\"fa-user\");\n",
       "    $(\"#dojo-user-icon\").addClass(\"fa-times\");\n",
       "    $(\"#dojo-user-icon\").prop(\"title\", \"Stop Registering People\");\n",
       "    self.pilot = prompt(\"Who is the pilot?\");\n",
       "    self.copilot = prompt(\"Who is the co-pilot?\");\n",
       "    self.startTime = new Date();\n",
       "  },\n",
       "\n",
       "  stopRegistering: function () {\n",
       "    var self = this;\n",
       "    $(\"#dojo-user-icon\").addClass(\"fa-user\");\n",
       "    $(\"#dojo-user-icon\").removeClass(\"fa-times\");\n",
       "    $(\"#dojo-user-icon\").prop(\"title\", \"Register People\");\n",
       "    self.users.push([self.startTime, new Date(), self.pilot, self.copilot]);\n",
       "    self.startTime = null;\n",
       "  },\n",
       "\n",
       "  peopleLog: function () {\n",
       "    var self = this;\n",
       "    var result = \"\";\n",
       "    self.users.forEach(function(value) {\n",
       "      result += \"- \" + value[0].toLocaleTimeString() + \" -> \" + value[1].toLocaleTimeString();\n",
       "      result += \" = \" + value[2] + \", \" + value[3] + \"\\r\\n\";\n",
       "    });\n",
       "    if (self.startTime != null) {\n",
       "      result += \"- \" + self.startTime.toLocaleTimeString() + \" -> \" + (new Date()).toLocaleTimeString();\n",
       "      result += \" = \" + self.pilot + \", \" + self.copilot + \"\\r\\n\";\n",
       "    }\n",
       "    var cell = Jupyter.notebook.insert_cell_at_bottom(\"markdown\");\n",
       "    cell.set_text(result.slice(0,-2));\n",
       "  }\n",
       "\n",
       "\n",
       "}\n",
       "\n",
       "if ($(\"#dojo-timer\").length) {\n",
       "  var interval = parseInt($(\"#dojo-timer-interval\").text());\n",
       "  clearInterval(interval);\n",
       "  $(\"#dojo-timer\").remove();\n",
       "}\n",
       "if (!$(\"#dojo-timer\").length) {\n",
       "  $(\"#kernel_indicator\").after(\n",
       "    '<div id=\"dojo-timer\" class=\"navbar-text indicator_area\">' +\n",
       "      '<a href=\"#\" id=\"dojo-list\" ' +\n",
       "       'style=\"color:rgb(119,119,119); margin: 0 0 0 5px;\">' +\n",
       "        '<i id=\"dojo-list-icon\" title=\"Copy People Log to Clipboard\" ' +\n",
       "         'class=\"fa fa-list\"></i>' +\n",
       "      '</a>' +\n",
       "      '<a href=\"#\" id=\"dojo-user\" ' +\n",
       "       'style=\"color:rgb(119,119,119); margin: 0 5px;\">' +\n",
       "        '<i id=\"dojo-user-icon\" title=\"Register People\" ' +\n",
       "         'class=\"fa fa-user\"></i>' +\n",
       "      '</a>' +\n",
       "      '<span id=\"dojo-timer-interval\" ' +\n",
       "       'style=\"margin: 0 5px; display: none;\"></span>' +\n",
       "      '<a href=\"#\" id=\"dojo-play-pause\" ' +\n",
       "       'style=\"color:rgb(119,119,119); margin: 0 5px;\">' +\n",
       "        '<i id=\"dojo-play-pause-icon\" title=\"Play/Pause Timer\" ' +\n",
       "         'class=\"fa fa-play\"></i>' +\n",
       "      '</a>' +\n",
       "      '<a href=\"#\" id=\"dojo-time-toggler\" ' +\n",
       "       'style=\"color:rgb(119,119,119);\">' +\n",
       "        '<i id=\"dojo-eye\" title=\"Toggle Timer\" ' +\n",
       "         'class=\"fa fa-eye-slash\"></i>' +\n",
       "      '</a>' +\n",
       "      '<span id=\"dojo-timer-time\" ' +\n",
       "       'style=\"margin: 0 5px; color:black;\">05:00</span>' +\n",
       "      '<a href=\"#\" id=\"dojo-reset-time\" ' +\n",
       "       'style=\"color:rgb(119,119,119);\">' +\n",
       "        '<i title=\"Reset Time\" class=\"fa fa-refresh\"></i>' +\n",
       "      '</a>' +\n",
       "      '<a href=\"#\" id=\"dojo-configure-time\" ' +\n",
       "       'style=\"color:rgb(119,119,119); margin: 0 5px;\">' +\n",
       "        '<i title=\"Configure Time\" class=\"fa fa-wrench\"></i>'+\n",
       "      '</a>' +\n",
       "    '</div>'\n",
       "  );\n",
       "  $(\"#dojo-timer-time\").hover(function(e) {\n",
       "    if ($(\"#dojo-eye\").hasClass(\"fa-eye-slash\")) {\n",
       "      DojoClock.mouseOver = e.type === \"mouseenter\";\n",
       "      DojoClock.viewText();\n",
       "    }\n",
       "  });\n",
       "  $(\"#dojo-reset-time\").click(function() {\n",
       "    DojoClock.reset();\n",
       "  });\n",
       "  $(\"#dojo-configure-time\").click(function() {\n",
       "    var time = prompt(\"New time in seconds\", DojoClock.default);\n",
       "    DojoClock.default = time;\n",
       "    DojoClock.reset();\n",
       "  });\n",
       "  $(\"#dojo-time-toggler\").click(function() {\n",
       "    if ($(\"#dojo-eye\").hasClass(\"fa-eye-slash\")) {\n",
       "      $(\"#dojo-eye\").removeClass(\"fa-eye-slash\");\n",
       "      $(\"#dojo-eye\").addClass(\"fa-eye\");\n",
       "    } else {\n",
       "      $(\"#dojo-eye\").addClass(\"fa-eye-slash\");\n",
       "      $(\"#dojo-eye\").removeClass(\"fa-eye\");\n",
       "    }\n",
       "    DojoClock.viewText();\n",
       "  });\n",
       "  $(\"#dojo-play-pause\").click(function() {\n",
       "    if ($(\"#dojo-play-pause-icon\").hasClass(\"fa-pause\")) {\n",
       "      DojoClock.pause()\n",
       "    } else {\n",
       "      DojoClock.resume();\n",
       "    }\n",
       "  });\n",
       "  $(\"#dojo-user\").click(function() {\n",
       "    if ($(\"#dojo-user-icon\").hasClass(\"fa-user\")) {\n",
       "      DojoClock.startRegistering()\n",
       "    } else {\n",
       "      DojoClock.stopRegistering();\n",
       "    }\n",
       "  });\n",
       "  $(\"#dojo-list\").click(function() {\n",
       "    DojoClock.peopleLog();\n",
       "  });\n",
       "}"
      ],
      "text/plain": [
       "<IPython.core.display.Javascript object>"
      ]
     },
     "metadata": {},
     "output_type": "display_data"
    },
    {
     "data": {
      "application/javascript": [
       "$('#dojo-timer').hide();"
      ],
      "text/plain": [
       "<IPython.core.display.Javascript object>"
      ]
     },
     "metadata": {},
     "output_type": "display_data"
    }
   ],
   "source": [
    "%reload_ext ipython_unittest"
   ]
  },
  {
   "cell_type": "code",
   "execution_count": 16,
   "metadata": {
    "collapsed": true
   },
   "outputs": [],
   "source": [
    "def sum(x, y):\n",
    "    return x + y"
   ]
  },
  {
   "cell_type": "markdown",
   "metadata": {},
   "source": [
    "# Simple asserts"
   ]
  },
  {
   "cell_type": "code",
   "execution_count": 17,
   "metadata": {
    "collapsed": false
   },
   "outputs": [
    {
     "data": {
      "application/javascript": [
       "$('#dojo-timer').show();"
      ],
      "text/plain": [
       "<IPython.core.display.Javascript object>"
      ]
     },
     "metadata": {},
     "output_type": "display_data"
    },
    {
     "data": {
      "application/javascript": [
       "$('#dojo-timer-time').css(\"background-color\",\"yellow\");"
      ],
      "text/plain": [
       "<IPython.core.display.Javascript object>"
      ]
     },
     "metadata": {},
     "output_type": "display_data"
    },
    {
     "name": "stdout",
     "output_type": "stream",
     "text": [
      "...\n",
      "----------------------------------------------------------------------\n",
      "Ran 3 tests in 0.003s\n",
      "\n",
      "OK\n"
     ]
    },
    {
     "data": {
      "application/javascript": [
       "$('#dojo-timer-time').css(\"background-color\",\"lightgreen\");"
      ],
      "text/plain": [
       "<IPython.core.display.Javascript object>"
      ]
     },
     "metadata": {},
     "output_type": "display_data"
    },
    {
     "data": {
      "text/plain": [
       "<unittest.runner.TextTestResult run=3 errors=0 failures=0>"
      ]
     },
     "execution_count": 17,
     "metadata": {},
     "output_type": "execute_result"
    }
   ],
   "source": [
    "%%unittest --dojo\n",
    "assert sum(1, 1) == 2\n",
    "assert sum(1, 2) == 3\n",
    "assert sum(2, 2) == 4"
   ]
  },
  {
   "cell_type": "markdown",
   "metadata": {},
   "source": [
    "# Asserts with method names"
   ]
  },
  {
   "cell_type": "code",
   "execution_count": null,
   "metadata": {
    "collapsed": false
   },
   "outputs": [],
   "source": [
    "%%unittest -c\n",
    "\"1 plus 1 equals 2\"\n",
    "assert sum(1, 1) == 2\n",
    "\"1 plus 2 equals 3\"\n",
    "assert sum(1, 2) == 3\n",
    "\"2 plus 2 equals 4\"\n",
    "assert sum(2, 2) == 4"
   ]
  },
  {
   "cell_type": "markdown",
   "metadata": {},
   "source": [
    "# Test methods"
   ]
  },
  {
   "cell_type": "code",
   "execution_count": null,
   "metadata": {
    "collapsed": false
   },
   "outputs": [],
   "source": [
    "%%unittest_testcase -t MyTestCase\n",
    "def test_1_plus_1_equals_2(self):\n",
    "    self.assertEqual(sum(1, 1), 2)\n",
    "    \n",
    "def test_1_plus_2_equals_3(self):\n",
    "    self.assertEqual(sum(1, 2), 3)\n",
    "    \n",
    "def test_2_plus_2_equals_4(self):\n",
    "    self.assertEqual(sum(2, 2), 4)"
   ]
  },
  {
   "cell_type": "markdown",
   "metadata": {},
   "source": [
    "# Run all test cases"
   ]
  },
  {
   "cell_type": "code",
   "execution_count": null,
   "metadata": {
    "collapsed": false
   },
   "outputs": [],
   "source": [
    "%%unittest_main\n",
    "class MyTestCase(unittest.TestCase):\n",
    "    def test_1_plus_1_equals_2(self):\n",
    "        self.assertEqual(sum(1, 1), 2)\n",
    "\n",
    "    def test_1_plus_2_equals_3(self):\n",
    "        self.assertEqual(sum(1, 2), 3)\n",
    "\n",
    "    def test_2_plus_2_equals_4(self):\n",
    "        self.assertEqual(sum(2, 2), 4)"
   ]
  }
 ],
 "metadata": {
  "kernelspec": {
   "display_name": "Python 3",
   "language": "python",
   "name": "python3"
  },
  "language_info": {
   "codemirror_mode": {
    "name": "ipython",
    "version": 3
   },
   "file_extension": ".py",
   "mimetype": "text/x-python",
   "name": "python",
   "nbconvert_exporter": "python",
   "pygments_lexer": "ipython3",
   "version": "3.5.1"
  }
 },
 "nbformat": 4,
 "nbformat_minor": 0
}
