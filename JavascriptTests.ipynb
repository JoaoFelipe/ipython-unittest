{
 "cells": [
  {
   "cell_type": "markdown",
   "metadata": {},
   "source": [
    "# Install mocha\n",
    "\n",
    "```\n",
    "npm install -g mocha\n",
    "```"
   ]
  },
  {
   "cell_type": "code",
   "execution_count": 1,
   "metadata": {
    "collapsed": false
   },
   "outputs": [
    {
     "data": {
      "application/javascript": [
       "define('jupyter_jodo', [\n",
       "    'base/js/namespace',\n",
       "    'notebook/js/actions',\n",
       "], function(\n",
       "    Jupyter,\n",
       "    actions\n",
       ") {\n",
       "  var actions = new actions.init();\n",
       "\n",
       "  function load_ipython_extension() {\n",
       "    var DojoClock = {\n",
       "      seconds: 300,\n",
       "      default: 300,\n",
       "      users: [],\n",
       "      startTime: null,\n",
       "      timer_running: false,\n",
       "      registering: false,\n",
       "      interfaces: [],\n",
       "\n",
       "      secToMMSS: function (sec) {\n",
       "        var minutes = Math.floor(sec / 60);\n",
       "        var seconds = sec - (minutes * 60);\n",
       "        if (minutes < 10) { minutes = \"0\" + minutes; }\n",
       "        if (seconds < 10) { seconds = \"0\" + seconds; }\n",
       "        return minutes + \":\" + seconds;\n",
       "      },\n",
       "\n",
       "      display: function () {\n",
       "        var self = this;\n",
       "        self.interfaces.forEach(function(view){\n",
       "          view.updateTime(self.secToMMSS(self.seconds));\n",
       "        });\n",
       "      },\n",
       "\n",
       "      start: function () {\n",
       "        var self = this;\n",
       "        self.timer_running = true;\n",
       "        self.interfaces.forEach(function(view){\n",
       "          view.updatePlayPause(self.timer_running);\n",
       "        });\n",
       "        this.interval = setInterval(function () {\n",
       "          self.display();\n",
       "          if (self.seconds == 0) {\n",
       "            self.pause();\n",
       "            if (self.startTime == null) {\n",
       "              alert(\"Time is up. Click ok to restart timer\");\n",
       "            } else {\n",
       "              var newTime = new Date();\n",
       "              self.users.push([self.startTime, newTime, self.pilot, self.copilot]);\n",
       "              self.pilot = self.copilot;\n",
       "              self.copilot = prompt(\"Time is up. Who is the new copilot?\");\n",
       "              self.startTime = new Date();\n",
       "            }\n",
       "            self.seconds = self.default;\n",
       "            self.start();\n",
       "          } else {\n",
       "            self.seconds--;\n",
       "          }\n",
       "          self.timer_running = true;\n",
       "          self.interfaces.forEach(function(view){\n",
       "            view.updatePlayPause(self.timer_running);\n",
       "          });\n",
       "\n",
       "        }, 1000);\n",
       "        self.interfaces.forEach(function(view){\n",
       "          view.updateInterval(this.interval);\n",
       "        });\n",
       "      },\n",
       "\n",
       "      pause: function () {\n",
       "        var self = this;\n",
       "        self.timer_running = false;\n",
       "        self.interfaces.forEach(function(view){\n",
       "          view.updatePlayPause(self.timer_running);\n",
       "        });\n",
       "        clearInterval(this.interval);\n",
       "        delete this.interval;\n",
       "      },\n",
       "\n",
       "      resume: function () {\n",
       "        if (!this.interval) this.start();\n",
       "      },\n",
       "\n",
       "      reset: function () {\n",
       "        var self = this;\n",
       "        self.seconds = self.default;\n",
       "        self.display();\n",
       "        self.pause();\n",
       "      },\n",
       "\n",
       "      startRegistering: function () {\n",
       "        var self = this;\n",
       "        self.registering = true;\n",
       "        self.interfaces.forEach(function(view){\n",
       "          view.updateRegistering(self.registering);\n",
       "        });\n",
       "        self.pilot = prompt(\"Who is the pilot?\");\n",
       "        self.copilot = prompt(\"Who is the co-pilot?\");\n",
       "        self.startTime = new Date();\n",
       "      },\n",
       "\n",
       "      stopRegistering: function () {\n",
       "        var self = this;\n",
       "        self.registering = false;\n",
       "        self.interfaces.forEach(function(view){\n",
       "          view.updateRegistering(self.registering);\n",
       "        });\n",
       "        self.users.push([self.startTime, new Date(), self.pilot, self.copilot]);\n",
       "        self.startTime = null;\n",
       "      },\n",
       "\n",
       "      peopleLog: function () {\n",
       "        var self = this;\n",
       "        var result = \"\";\n",
       "        self.users.forEach(function(value) {\n",
       "          result += \"- \" + value[0].toLocaleTimeString() + \" -> \" + value[1].toLocaleTimeString();\n",
       "          result += \" = \" + value[2] + \", \" + value[3] + \"\\r\\n\";\n",
       "        });\n",
       "        if (self.startTime != null) {\n",
       "          result += \"- \" + self.startTime.toLocaleTimeString() + \" -> \" + (new Date()).toLocaleTimeString();\n",
       "          result += \" = \" + self.pilot + \", \" + self.copilot + \"\\r\\n\";\n",
       "        }\n",
       "        var cell = Jupyter.notebook.insert_cell_at_bottom(\"markdown\");\n",
       "        cell.set_text(result.slice(0,-2));\n",
       "      },\n",
       "\n",
       "      configure: function () {\n",
       "        var self = this;\n",
       "        var time = prompt(\"New time in seconds\", self.default);\n",
       "        self.default = time;\n",
       "        self.reset();\n",
       "      }\n",
       "    };\n",
       "    var prefix = 'jupyter-dojo';\n",
       "    var view = {\n",
       "      eyeb: \"#\"+prefix+\" button[data-jupyter-action='\"+prefix+\":dojo-time']\",\n",
       "      eye: \"#\"+prefix+\" button[data-jupyter-action='\"+prefix+\":dojo-time'] i\",\n",
       "      play: \"#\"+prefix+\" button[data-jupyter-action='\"+prefix+\":dojo-play-pause'] i\",\n",
       "      register: \"#\"+prefix+\" button[data-jupyter-action='\"+prefix+\":dojo-register-log'] i\",\n",
       "      interval: \"dojo-timer-interval\",\n",
       "      timer: \"dojo-timer-time\",\n",
       "      mouseOver: false,\n",
       "\n",
       "      viewText: function() {\n",
       "        var self = this;\n",
       "        if ($(self.eye).hasClass(\"fa-eye\") ||\n",
       "            $(self.play).hasClass(\"fa-play\") ||\n",
       "            self.mouseOver) {\n",
       "          $(\"#\" + self.timer).css(\"color\", \"black\");\n",
       "        } else {\n",
       "          $(\"#\" + self.timer).css(\"color\", \"transparent\");\n",
       "        }\n",
       "      },\n",
       "\n",
       "      updatePlayPause: function(running) {\n",
       "        var self = this;\n",
       "        var action = actions._actions[prefix + \":\" + \"dojo-play-pause\"];\n",
       "        if (!running) {\n",
       "          action.icon = \"fa-play\";\n",
       "          $(self.play).removeClass(\"fa-pause\");\n",
       "        } else {\n",
       "          action.icon = \"fa-pause\";\n",
       "          $(self.play).removeClass(\"fa-play\");\n",
       "        }\n",
       "        $(self.play).addClass(action.icon);\n",
       "        self.viewText();\n",
       "      },\n",
       "\n",
       "      updateTime: function(time) {\n",
       "        var self = this;\n",
       "        $(\"#\" + self.timer).text(time);\n",
       "      },\n",
       "\n",
       "      updateInterval: function(interval) {\n",
       "        var self = this;\n",
       "        $(\"#\" + self.interval).text(interval);\n",
       "      },\n",
       "\n",
       "      updateRegistering: function(registering) {\n",
       "        var self = this;\n",
       "        var action = actions._actions[prefix + \":\" + \"dojo-register-log\"];\n",
       "        if (registering) {\n",
       "          action.icon = \"fa-times\";\n",
       "          action.help = \"stop logging people\";\n",
       "          $(self.register).removeClass(\"fa-user\");\n",
       "        } else {\n",
       "          action.icon = \"fa-user\";\n",
       "          action.help = \"log people\";\n",
       "          $(self.register).removeClass(\"fa-times\");\n",
       "        }\n",
       "        $(self.register).addClass(action.icon);\n",
       "        $(self.register).prop(\"title\", action.help);\n",
       "      },\n",
       "\n",
       "      cleanup: function() {\n",
       "        var self = this;\n",
       "        var interval = parseInt($(\"#\" + self.interval).text());\n",
       "        clearInterval(interval);\n",
       "      },\n",
       "\n",
       "      init: function() {\n",
       "        var self = this;\n",
       "        $(self.eye).after(\n",
       "          '<span id=\"' + self.interval + '\" ' +\n",
       "            'style=\"margin: 0 5px; display: none;\"></span>' +\n",
       "          '<span id=\"' + self.timer + '\" ' +\n",
       "            'style=\"margin: 0 5px; color:black;\">05:00</span>');\n",
       "        $(self.eyeb).hover(function(e) {\n",
       "          if ($(self.eye).hasClass(\"fa-eye-slash\")) {\n",
       "            self.mouseOver = e.type === \"mouseenter\";\n",
       "            self.viewText();\n",
       "          }\n",
       "        }, function(e) {\n",
       "          self.mouseOver = false;\n",
       "          self.viewText();\n",
       "        });\n",
       "      },\n",
       "\n",
       "      toggle_eye: function() {\n",
       "        var self = this;\n",
       "        if ($(self.eye).hasClass(\"fa-eye-slash\")) {\n",
       "          $(self.eye).removeClass(\"fa-eye-slash\");\n",
       "          $(self.eye).addClass(\"fa-eye\");\n",
       "        } else {\n",
       "          $(self.eye).addClass(\"fa-eye-slash\");\n",
       "          $(self.eye).removeClass(\"fa-eye\");\n",
       "        }\n",
       "        self.viewText();\n",
       "      }\n",
       "    };\n",
       "\n",
       "    if ($(\"#\" + prefix).length) {\n",
       "      return;\n",
       "     // interface.cleanup();\n",
       "     // $(\"#\" + prefix).remove();\n",
       "    }\n",
       "\n",
       "    var dojo_actions = [\n",
       "      {\n",
       "        name: 'dojo-create',\n",
       "        icon: 'fa-group',\n",
       "        help    : 'create dojo',\n",
       "        help_index : 'zz',\n",
       "        handler : function () {\n",
       "            var fn = prompt(\"Function Name?\");\n",
       "            Jupyter.notebook.insert_cell_below().set_text(\"%%unittest -p 1\\nassert \"+fn+\"() == 0\");\n",
       "            Jupyter.notebook.insert_cell_below().set_text(\"def \"+fn+\"():\\n    pass\");\n",
       "            Jupyter.notebook.insert_cell_below().set_text(\"%load_ext ipython_unittest.dojo\");\n",
       "        }\n",
       "      },\n",
       "      {\n",
       "        name: 'dojo-list-log',\n",
       "        icon: 'fa-list',\n",
       "        help    : 'copy people log to new cell',\n",
       "        help_index : 'zz',\n",
       "        handler : function(e){DojoClock.peopleLog()}\n",
       "      },\n",
       "      {\n",
       "        name: 'dojo-register-log',\n",
       "        icon: 'fa-user',\n",
       "        help    : 'log people',\n",
       "        help_index : 'zz',\n",
       "        handler : function(e){\n",
       "          if (DojoClock.registering) {\n",
       "            DojoClock.stopRegistering();\n",
       "          } else {\n",
       "            DojoClock.startRegistering();\n",
       "          }\n",
       "        }\n",
       "      },\n",
       "      {\n",
       "        name: 'dojo-play-pause',\n",
       "        icon: 'fa-play',\n",
       "        help    : 'play/pause time',\n",
       "        help_index : 'zz',\n",
       "        handler : function(e){\n",
       "          DojoClock.timer_running ? DojoClock.pause() : DojoClock.resume();\n",
       "        }\n",
       "      },\n",
       "      {\n",
       "        name: 'dojo-time',\n",
       "        icon: 'fa-eye-slash',\n",
       "        help    : 'toggle timer',\n",
       "        help_index : 'zz',\n",
       "        handler : function(){view.toggle_eye()}\n",
       "      },\n",
       "      {\n",
       "        name: 'dojo-reset-time',\n",
       "        icon: 'fa-refresh',\n",
       "        help    : 'reset time',\n",
       "        help_index : 'zz',\n",
       "        handler : function(){DojoClock.reset()}\n",
       "      },\n",
       "      {\n",
       "        name: 'dojo-configure-time',\n",
       "        icon: 'fa-wrench',\n",
       "        help    : 'configure time',\n",
       "        help_index : 'zz',\n",
       "        handler : function(){DojoClock.configure()}\n",
       "      }\n",
       "    ];\n",
       "\n",
       "    var group = []\n",
       "    dojo_actions.forEach(function(action) {\n",
       "      action.full_name = actions.register(action, action.name, prefix);\n",
       "      group.push(action.full_name);\n",
       "    });\n",
       "\n",
       "    Jupyter.toolbar.add_buttons_group(group, prefix);\n",
       "    view.init();\n",
       "    DojoClock.interfaces.push(view);\n",
       "  }\n",
       "  return {\n",
       "    load_ipython_extension: load_ipython_extension\n",
       "  };\n",
       "\n",
       "});\n"
      ],
      "text/plain": [
       "<IPython.core.display.Javascript object>"
      ]
     },
     "metadata": {},
     "output_type": "display_data"
    },
    {
     "data": {
      "application/javascript": [
       "\n",
       "        require([\"jupyter_dojo\"], function(j){\n",
       "          j.load_ipython_extension();\n",
       "        });\n",
       "    "
      ],
      "text/plain": [
       "<IPython.core.display.Javascript object>"
      ]
     },
     "metadata": {},
     "output_type": "display_data"
    }
   ],
   "source": [
    "%load_ext ipython_unittest.dojo"
   ]
  },
  {
   "cell_type": "code",
   "execution_count": 2,
   "metadata": {
    "collapsed": false
   },
   "outputs": [
    {
     "data": {
      "application/javascript": [
       "\n",
       "              var mode = 'magic_javascript';\n",
       "              if (!IPython.CodeCell.config_defaults.highlight_modes[mode]) {\n",
       "                  IPython.CodeCell.config_defaults.highlight_modes[mode] = {\n",
       "                      'reg':[]\n",
       "                  };\n",
       "              }\n",
       "              IPython.CodeCell.config_defaults.highlight_modes[mode].reg.push(\n",
       "                  /^%%write javascript/\n",
       "              );\n",
       "        "
      ],
      "text/plain": [
       "<IPython.core.display.Javascript object>"
      ]
     },
     "metadata": {},
     "output_type": "display_data"
    },
    {
     "name": "stdout",
     "output_type": "stream",
     "text": [
      "Overwriting test.js\n"
     ]
    }
   ],
   "source": [
    "%%write javascript test.js\n",
    "var assert = require('assert');\n",
    "describe('Array', function() {\n",
    "  describe('#indexOf()', function() {\n",
    "    it('should return -1 when the value is not present', function() {\n",
    "      assert.equal(-1, [1,2,3].indexOf(4));\n",
    "    });\n",
    "  });\n",
    "});"
   ]
  },
  {
   "cell_type": "code",
   "execution_count": 3,
   "metadata": {
    "collapsed": false
   },
   "outputs": [
    {
     "data": {
      "application/javascript": [
       "$(':has(> #dojo-timer-time)').css(\"background-color\",\"yellow\");"
      ],
      "text/plain": [
       "<IPython.core.display.Javascript object>"
      ]
     },
     "metadata": {},
     "output_type": "display_data"
    },
    {
     "name": "stdout",
     "output_type": "stream",
     "text": [
      "\r\n",
      "\u001b[0m\u001b[0m\r\n",
      "\u001b[0m  Array\u001b[0m\r\n",
      "\u001b[0m    #indexOf()\u001b[0m\r\n",
      "    \u001b[32m  ✓\u001b[0m\u001b[90m should return -1 when the value is not present\u001b[0m\r\n",
      "\r\n",
      "\r\n",
      "\u001b[92m \u001b[0m\u001b[32m 1 passing\u001b[0m\u001b[90m (8ms)\u001b[0m\r\n",
      "\r\n"
     ]
    },
    {
     "data": {
      "application/javascript": [
       "Jupyter.notebook.select(Jupyter.notebook.get_selected_index() - 2)"
      ],
      "text/plain": [
       "<IPython.core.display.Javascript object>"
      ]
     },
     "metadata": {},
     "output_type": "display_data"
    },
    {
     "data": {
      "application/javascript": [
       "$(':has(> #dojo-timer-time)').css(\"background-color\",\"lightgreen\");"
      ],
      "text/plain": [
       "<IPython.core.display.Javascript object>"
      ]
     },
     "metadata": {},
     "output_type": "display_data"
    },
    {
     "data": {
      "text/plain": [
       "True"
      ]
     },
     "execution_count": 3,
     "metadata": {},
     "output_type": "execute_result"
    }
   ],
   "source": [
    "%%external --previous 1\n",
    "mocha test.js"
   ]
  }
 ],
 "metadata": {
  "kernelspec": {
   "display_name": "Python 3",
   "language": "python",
   "name": "python3"
  },
  "language_info": {
   "codemirror_mode": {
    "name": "ipython",
    "version": 3
   },
   "file_extension": ".py",
   "mimetype": "text/x-python",
   "name": "python",
   "nbconvert_exporter": "python",
   "pygments_lexer": "ipython3",
   "version": "3.5.1"
  }
 },
 "nbformat": 4,
 "nbformat_minor": 1
}
