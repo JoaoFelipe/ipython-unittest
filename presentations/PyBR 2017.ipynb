{
 "cells": [
  {
   "cell_type": "markdown",
   "metadata": {},
   "source": [
    "# IPython-Unittest / Jupyter Dojo\n",
    "\n",
    "## Testes no Jupyter usando cell magics\n",
    "\n",
    "#### João Felipe Nicolaci Pimentel (joaofelipenp@gmail.com)\n",
    "\n",
    "### `conda install -c conda-forge jupyter_dojo`\n",
    "\n",
    "Cell Magics + Toolbar\n",
    "\n",
    "\n",
    "\n",
    "##### Ou\n",
    "\n",
    "### `pip install ipython_unittest`\n",
    "\n",
    "Apenas cell magics\n",
    "\n",
    "## https://github.com/JoaoFelipe/ipython-unittest\n"
   ]
  },
  {
   "cell_type": "code",
   "execution_count": 3,
   "metadata": {
    "collapsed": true
   },
   "outputs": [],
   "source": [
    "%load_ext ipython_unittest"
   ]
  },
  {
   "cell_type": "code",
   "execution_count": 7,
   "metadata": {
    "collapsed": true
   },
   "outputs": [],
   "source": [
    "def add(x, y):\n",
    "    return x + y"
   ]
  },
  {
   "cell_type": "code",
   "execution_count": 8,
   "metadata": {},
   "outputs": [
    {
     "data": {
      "application/javascript": [
       "\n",
       "                $(':has(> #dojo-timer-time)').css(\"background-color\",\"yellow\");\n",
       "                if (0 != 0) {\n",
       "                  Jupyter.notebook.select(\n",
       "                    Jupyter.notebook.get_selected_index() - 0\n",
       "                  );\n",
       "                }\n",
       "            "
      ],
      "application/unittest.status+json": {
       "color": "yellow",
       "message": "",
       "previous": 0
      },
      "text/plain": [
       "yellow"
      ]
     },
     "metadata": {},
     "output_type": "display_data"
    },
    {
     "name": "stdout",
     "output_type": "stream",
     "text": [
      "...\n",
      "----------------------------------------------------------------------\n",
      "Ran 3 tests in 0.004s\n",
      "\n",
      "OK\n"
     ]
    },
    {
     "data": {
      "application/javascript": [
       "\n",
       "                $(':has(> #dojo-timer-time)').css(\"background-color\",\"lightgreen\");\n",
       "                if (0 != 0) {\n",
       "                  Jupyter.notebook.select(\n",
       "                    Jupyter.notebook.get_selected_index() - 0\n",
       "                  );\n",
       "                }\n",
       "            "
      ],
      "application/unittest.status+json": {
       "color": "lightgreen",
       "message": "",
       "previous": 0
      },
      "text/plain": [
       "lightgreen"
      ]
     },
     "metadata": {},
     "output_type": "display_data"
    },
    {
     "data": {
      "text/plain": [
       "<unittest.runner.TextTestResult run=3 errors=0 failures=0>"
      ]
     },
     "execution_count": 8,
     "metadata": {},
     "output_type": "execute_result"
    }
   ],
   "source": [
    "%%unittest\n",
    "assert add(1, 1) == 2\n",
    "assert add(1, 2) == 3\n",
    "assert add(2, 2) == 4"
   ]
  },
  {
   "cell_type": "code",
   "execution_count": null,
   "metadata": {
    "collapsed": true
   },
   "outputs": [],
   "source": []
  },
  {
   "cell_type": "code",
   "execution_count": null,
   "metadata": {
    "collapsed": true
   },
   "outputs": [],
   "source": [
    "%load_ext ipython_unittest"
   ]
  },
  {
   "cell_type": "code",
   "execution_count": null,
   "metadata": {
    "collapsed": true
   },
   "outputs": [],
   "source": [
    "def fizzbuzz():\n",
    "    pass"
   ]
  },
  {
   "cell_type": "code",
   "execution_count": null,
   "metadata": {
    "collapsed": true
   },
   "outputs": [],
   "source": [
    "%%unittest -p 1\n",
    "assert fizzbuzz() == 0"
   ]
  },
  {
   "cell_type": "code",
   "execution_count": null,
   "metadata": {
    "collapsed": true
   },
   "outputs": [],
   "source": []
  },
  {
   "cell_type": "code",
   "execution_count": null,
   "metadata": {
    "collapsed": true
   },
   "outputs": [],
   "source": []
  },
  {
   "cell_type": "code",
   "execution_count": null,
   "metadata": {
    "collapsed": true
   },
   "outputs": [],
   "source": [
    "import unittest\n",
    "import sys\n",
    "\n",
    "class JupyterTest(unittest.TestCase):\n",
    "\n",
    "    def test_add_1_1_returns_2(self):\n",
    "        self.assertEqual(add(1, 1), 2)\n",
    "\n",
    "    def test_add_1_2_returns_3(self):\n",
    "        self.assertEqual(add(1, 2), 3)\n",
    "\n",
    "    def test_add_2_2_returns_4(self):\n",
    "        self.assertEqual(add(2, 2), 4)\n",
    "        \n",
    "suite = unittest.TestLoader().loadTestsFromTestCase(JupyterTest)\n",
    "unittest.TextTestRunner(verbosity=1, stream=sys.stdout).run(suite)"
   ]
  },
  {
   "cell_type": "code",
   "execution_count": null,
   "metadata": {
    "collapsed": true
   },
   "outputs": [],
   "source": []
  },
  {
   "cell_type": "code",
   "execution_count": null,
   "metadata": {
    "collapsed": true
   },
   "outputs": [],
   "source": [
    "!pip install astunparse"
   ]
  },
  {
   "cell_type": "code",
   "execution_count": 9,
   "metadata": {},
   "outputs": [
    {
     "data": {
      "application/javascript": [
       "\n",
       "                $(':has(> #dojo-timer-time)').css(\"background-color\",\"yellow\");\n",
       "                if (0 != 0) {\n",
       "                  Jupyter.notebook.select(\n",
       "                    Jupyter.notebook.get_selected_index() - 0\n",
       "                  );\n",
       "                }\n",
       "            "
      ],
      "application/unittest.status+json": {
       "color": "yellow",
       "message": "",
       "previous": 0
      },
      "text/plain": [
       "yellow"
      ]
     },
     "metadata": {},
     "output_type": "display_data"
    },
    {
     "name": "stdout",
     "output_type": "stream",
     "text": [
      "\n",
      "\n",
      "class JupyterTest(unittest.TestCase):\n",
      "\n",
      "    def test_add_1_1_returns_2(self):\n",
      "        'add 1 + 1 returns 2'\n",
      "        self.assertEqual(add(1, 1), 2)\n",
      "\n",
      "    def test_add_1_2_returns_3(self):\n",
      "        'add 1 + 2 returns 3'\n",
      "        self.assertEqual(add(1, 2), 3)\n",
      "\n",
      "    def test_add_2_2_returns_4(self):\n",
      "        'add 2 + 2 returns 4'\n",
      "        self.assertEqual(add(2, 2), 4)\n",
      "\n",
      "...\n",
      "----------------------------------------------------------------------\n",
      "Ran 3 tests in 0.009s\n",
      "\n",
      "OK\n"
     ]
    },
    {
     "data": {
      "application/javascript": [
       "\n",
       "                $(':has(> #dojo-timer-time)').css(\"background-color\",\"lightgreen\");\n",
       "                if (0 != 0) {\n",
       "                  Jupyter.notebook.select(\n",
       "                    Jupyter.notebook.get_selected_index() - 0\n",
       "                  );\n",
       "                }\n",
       "            "
      ],
      "application/unittest.status+json": {
       "color": "lightgreen",
       "message": "",
       "previous": 0
      },
      "text/plain": [
       "lightgreen"
      ]
     },
     "metadata": {},
     "output_type": "display_data"
    },
    {
     "data": {
      "text/plain": [
       "<unittest.runner.TextTestResult run=3 errors=0 failures=0>"
      ]
     },
     "execution_count": 9,
     "metadata": {},
     "output_type": "execute_result"
    }
   ],
   "source": [
    "%%unittest -u\n",
    "\"add 1 + 1 returns 2\"\n",
    "assert add(1, 1) == 2\n",
    "\"add 1 + 2 returns 3\"\n",
    "assert add(1, 2) == 3\n",
    "\"add 2 + 2 returns 4\"\n",
    "assert add(2, 2) == 4"
   ]
  },
  {
   "cell_type": "code",
   "execution_count": null,
   "metadata": {
    "collapsed": true
   },
   "outputs": [],
   "source": []
  },
  {
   "cell_type": "code",
   "execution_count": null,
   "metadata": {
    "collapsed": true
   },
   "outputs": [],
   "source": []
  },
  {
   "cell_type": "code",
   "execution_count": null,
   "metadata": {
    "collapsed": true
   },
   "outputs": [],
   "source": []
  },
  {
   "cell_type": "code",
   "execution_count": null,
   "metadata": {
    "collapsed": true
   },
   "outputs": [],
   "source": []
  },
  {
   "cell_type": "markdown",
   "metadata": {
    "collapsed": true
   },
   "source": [
    "# Other magics:"
   ]
  },
  {
   "cell_type": "code",
   "execution_count": null,
   "metadata": {
    "collapsed": true
   },
   "outputs": [],
   "source": [
    "%%write javascript test.js\n",
    "var assert = require('assert');\n",
    "describe('Array', function() {\n",
    "  describe('#indexOf()', function() {\n",
    "    it('should return -1 when the value is not present', function() {\n",
    "      assert.equal(-1, [1,2,3].indexOf(4));\n",
    "    });\n",
    "  });\n",
    "});"
   ]
  },
  {
   "cell_type": "code",
   "execution_count": null,
   "metadata": {
    "collapsed": true
   },
   "outputs": [],
   "source": [
    "%%external --previous 1\n",
    "mocha test.js"
   ]
  },
  {
   "cell_type": "code",
   "execution_count": null,
   "metadata": {
    "collapsed": true
   },
   "outputs": [],
   "source": [
    "%%unittest_main\n",
    "class JupyterTest(unittest.TestCase):\n",
    "\n",
    "    def test_add_1_1_returns_2(self):\n",
    "        self.assertEqual(add(1, 1), 2)\n",
    "\n",
    "    def test_add_1_2_returns_3(self):\n",
    "        self.assertEqual(add(1, 2), 3)\n",
    "\n",
    "    def test_add_2_2_returns_4(self):\n",
    "        self.assertEqual(add(2, 2), 4)"
   ]
  },
  {
   "cell_type": "code",
   "execution_count": null,
   "metadata": {
    "collapsed": true
   },
   "outputs": [],
   "source": [
    "%%unittest_testcase\n",
    "def test_add_1_1_returns_2(self):\n",
    "    self.assertEqual(add(1, 1), 2)\n",
    "\n",
    "def test_add_1_2_returns_3(self):\n",
    "    self.assertEqual(add(1, 2), 3)\n",
    "\n",
    "def test_add_2_2_returns_4(self):\n",
    "    self.assertEqual(add(2, 2), 4)"
   ]
  },
  {
   "cell_type": "code",
   "execution_count": null,
   "metadata": {
    "collapsed": true
   },
   "outputs": [],
   "source": []
  },
  {
   "cell_type": "code",
   "execution_count": null,
   "metadata": {
    "collapsed": true
   },
   "outputs": [],
   "source": []
  },
  {
   "cell_type": "code",
   "execution_count": null,
   "metadata": {
    "collapsed": true
   },
   "outputs": [],
   "source": []
  },
  {
   "cell_type": "code",
   "execution_count": null,
   "metadata": {
    "collapsed": true
   },
   "outputs": [],
   "source": []
  },
  {
   "cell_type": "code",
   "execution_count": null,
   "metadata": {
    "collapsed": true
   },
   "outputs": [],
   "source": []
  },
  {
   "cell_type": "code",
   "execution_count": null,
   "metadata": {
    "collapsed": true
   },
   "outputs": [],
   "source": []
  },
  {
   "cell_type": "code",
   "execution_count": null,
   "metadata": {
    "collapsed": true
   },
   "outputs": [],
   "source": []
  },
  {
   "cell_type": "markdown",
   "metadata": {},
   "source": [
    "# IPython-Unittest / Jupyter Dojo\n",
    "\n",
    "## Testes no Jupyter usando cell magics\n",
    "\n",
    "#### João Felipe Nicolaci Pimentel (joaofelipenp@gmail.com)\n",
    "\n",
    "### `conda install -c conda-forge jupyter_dojo`\n",
    "\n",
    "Cell Magics + Toolbar\n",
    "\n",
    "\n",
    "\n",
    "##### Ou\n",
    "\n",
    "### `pip install ipython_unittest`\n",
    "\n",
    "Apenas cell magics\n",
    "\n",
    "## https://github.com/JoaoFelipe/ipython-unittest\n"
   ]
  },
  {
   "cell_type": "code",
   "execution_count": null,
   "metadata": {
    "collapsed": true
   },
   "outputs": [],
   "source": []
  }
 ],
 "metadata": {
  "anaconda-cloud": {},
  "kernelspec": {
   "display_name": "Python 3",
   "language": "python",
   "name": "python3"
  },
  "language_info": {
   "codemirror_mode": {
    "name": "ipython",
    "version": 3
   },
   "file_extension": ".py",
   "mimetype": "text/x-python",
   "name": "python",
   "nbconvert_exporter": "python",
   "pygments_lexer": "ipython3",
   "version": "3.6.1"
  },
  "toc": {
   "colors": {
    "hover_highlight": "#DAA520",
    "navigate_num": "#000000",
    "navigate_text": "#333333",
    "running_highlight": "#FF0000",
    "selected_highlight": "#FFD700",
    "sidebar_border": "#EEEEEE",
    "wrapper_background": "#FFFFFF"
   },
   "moveMenuLeft": true,
   "nav_menu": {
    "height": "295px",
    "width": "252px"
   },
   "navigate_menu": true,
   "number_sections": false,
   "sideBar": true,
   "threshold": 4,
   "toc_cell": false,
   "toc_section_display": "none",
   "toc_window_display": false,
   "widenNotebook": false
  }
 },
 "nbformat": 4,
 "nbformat_minor": 1
}
